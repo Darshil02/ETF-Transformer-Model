{
  "nbformat": 4,
  "nbformat_minor": 0,
  "metadata": {
    "colab": {
      "provenance": []
    },
    "kernelspec": {
      "name": "python3",
      "display_name": "Python 3"
    },
    "language_info": {
      "name": "python"
    }
  },
  "cells": [
    {
      "cell_type": "code",
      "source": [
        "!pip install torchtext==0.6.0"
      ],
      "metadata": {
        "id": "r2IgWOOBdfMX"
      },
      "execution_count": null,
      "outputs": []
    },
    {
      "cell_type": "markdown",
      "metadata": {
        "id": "jUK_3ekK-Emp"
      },
      "source": [
        "### Prepare ETF data for transformer"
      ]
    },
    {
      "cell_type": "code",
      "source": [
        "%autosave 60\n",
        "import pandas as pd"
      ],
      "metadata": {
        "colab": {
          "base_uri": "https://localhost:8080/",
          "height": 35
        },
        "id": "HBhZDUjKPdjN",
        "outputId": "26ff2250-e382-4a07-880e-8c7f90706b8f"
      },
      "execution_count": null,
      "outputs": [
        {
          "output_type": "display_data",
          "data": {
            "application/javascript": [
              "IPython.notebook.set_autosave_interval(60000)"
            ]
          },
          "metadata": {}
        },
        {
          "output_type": "stream",
          "name": "stdout",
          "text": [
            "Autosaving every 60 seconds\n"
          ]
        }
      ]
    },
    {
      "cell_type": "code",
      "execution_count": null,
      "metadata": {
        "id": "SaoWoVwg9kiO"
      },
      "outputs": [],
      "source": [
        "df = pd.read_csv(\"ETF prices.csv\")"
      ]
    },
    {
      "cell_type": "code",
      "execution_count": null,
      "metadata": {
        "id": "ovK81X80-YxA",
        "colab": {
          "base_uri": "https://localhost:8080/"
        },
        "outputId": "5cfa2d4f-6ae3-4a67-e519-270a150bd2a5"
      },
      "outputs": [
        {
          "output_type": "execute_result",
          "data": {
            "text/plain": [
              "Index(['fund_symbol', 'price_date', 'open', 'high', 'low', 'close',\n",
              "       'adj_close', 'volume'],\n",
              "      dtype='object')"
            ]
          },
          "metadata": {},
          "execution_count": 3
        }
      ],
      "source": [
        "# show column names\n",
        "df.columns"
      ]
    },
    {
      "cell_type": "code",
      "source": [
        "# convert date\n",
        "df['price_date'] = pd.to_datetime(df['price_date'])"
      ],
      "metadata": {
        "id": "wnU8Tn_YDz1_"
      },
      "execution_count": null,
      "outputs": []
    },
    {
      "cell_type": "code",
      "source": [
        "# change column name\n",
        "df = df.rename(columns = {\"fund_symbol\": \"fund\", \"price_date\": \"date\", \"adj_close\": \"adjClose\"})\n",
        "\n",
        "# Convert numeric columns to float (if necessary)\n",
        "numeric_cols = df.select_dtypes(include=['number']).columns\n",
        "\n",
        "# Round numeric columns to two decimals\n",
        "df[numeric_cols] = df[numeric_cols].round(2)"
      ],
      "metadata": {
        "id": "xF_lZunxD1nm"
      },
      "execution_count": null,
      "outputs": []
    },
    {
      "cell_type": "code",
      "source": [
        "# show column types\n",
        "df.dtypes"
      ],
      "metadata": {
        "colab": {
          "base_uri": "https://localhost:8080/"
        },
        "id": "clPVeKVRD3wi",
        "outputId": "11ab5907-624b-4252-b96c-bbd765a7ab9c"
      },
      "execution_count": null,
      "outputs": [
        {
          "output_type": "execute_result",
          "data": {
            "text/plain": [
              "fund                object\n",
              "date        datetime64[ns]\n",
              "open               float64\n",
              "high               float64\n",
              "low                float64\n",
              "close              float64\n",
              "adjClose           float64\n",
              "volume               int64\n",
              "dtype: object"
            ]
          },
          "metadata": {},
          "execution_count": 6
        }
      ]
    },
    {
      "cell_type": "code",
      "source": [
        "print(df)"
      ],
      "metadata": {
        "colab": {
          "base_uri": "https://localhost:8080/"
        },
        "id": "hthYdyYZD5kv",
        "outputId": "b4183522-8c7b-42f2-e37c-b9565094b2ca"
      },
      "execution_count": null,
      "outputs": [
        {
          "output_type": "stream",
          "name": "stdout",
          "text": [
            "        fund       date   open   high    low  close  adjClose  volume\n",
            "0        AAA 2020-09-09  25.10  25.12  25.07  25.07     24.85   17300\n",
            "1        AAA 2020-09-10  25.06  25.07  25.05  25.07     24.85   23500\n",
            "2        AAA 2020-09-11  25.04  25.05  25.02  25.03     24.81   33400\n",
            "3        AAA 2020-09-14  25.01  25.06  25.01  25.02     24.80   13100\n",
            "4        AAA 2020-09-15  25.02  25.03  25.01  25.01     24.79   12100\n",
            "...      ...        ...    ...    ...    ...    ...       ...     ...\n",
            "3866025  ZSL 2021-11-23  26.81  27.21  26.30  26.35     26.35  190900\n",
            "3866026  ZSL 2021-11-24  26.79  26.96  26.57  26.69     26.69  109000\n",
            "3866027  ZSL 2021-11-26  26.67  28.14  26.67  27.72     27.72  205500\n",
            "3866028  ZSL 2021-11-29  27.89  28.56  27.80  28.27     28.27  411900\n",
            "3866029  ZSL 2021-11-30  28.15  28.73  25.91  28.49     28.49  219400\n",
            "\n",
            "[3866030 rows x 8 columns]\n"
          ]
        }
      ]
    },
    {
      "cell_type": "code",
      "source": [
        "dfTest = df.copy()\n",
        "df = df[df['fund'] == 'AAA'][['open', 'high', 'low', 'close', 'adjClose']]\n",
        "dfTest = dfTest[dfTest['fund'] == 'SPY'][['open', 'high', 'low', 'close', 'adjClose']]"
      ],
      "metadata": {
        "id": "qhf-CqtNYG7o"
      },
      "execution_count": null,
      "outputs": []
    },
    {
      "cell_type": "code",
      "source": [
        "print(df)\n",
        "print(dfTest)"
      ],
      "metadata": {
        "colab": {
          "base_uri": "https://localhost:8080/"
        },
        "id": "VGkqHzq8ZKIA",
        "outputId": "48032c18-1fd1-4f6a-9ad8-c27ee7bcbe6f"
      },
      "execution_count": null,
      "outputs": [
        {
          "output_type": "stream",
          "name": "stdout",
          "text": [
            "      open   high    low  close  adjClose\n",
            "0    25.10  25.12  25.07  25.07     24.85\n",
            "1    25.06  25.07  25.05  25.07     24.85\n",
            "2    25.04  25.05  25.02  25.03     24.81\n",
            "3    25.01  25.06  25.01  25.02     24.80\n",
            "4    25.02  25.03  25.01  25.01     24.79\n",
            "..     ...    ...    ...    ...       ...\n",
            "305  25.04  25.04  25.02  25.03     25.03\n",
            "306  25.03  25.04  25.02  25.02     25.02\n",
            "307  25.04  25.04  25.02  25.02     25.02\n",
            "308  25.02  25.03  25.02  25.03     25.03\n",
            "309  25.04  25.04  25.04  25.04     25.04\n",
            "\n",
            "[310 rows x 5 columns]\n",
            "           open    high     low   close  adjClose\n",
            "3262244   43.97   43.97   43.75   43.94     25.80\n",
            "3262245   43.97   44.25   43.97   44.25     25.98\n",
            "3262246   44.22   44.38   44.12   44.34     26.04\n",
            "3262247   44.41   44.84   44.38   44.81     26.31\n",
            "3262248   44.97   45.09   44.47   45.00     26.42\n",
            "...         ...     ...     ...     ...       ...\n",
            "3269502  467.22  469.10  464.45  468.19    468.19\n",
            "3269503  466.06  469.57  465.19  469.44    469.44\n",
            "3269504  462.34  463.90  457.77  458.97    458.97\n",
            "3269505  464.07  466.56  461.73  464.60    464.60\n",
            "3269506  462.00  464.03  455.30  455.56    455.56\n",
            "\n",
            "[7263 rows x 5 columns]\n"
          ]
        }
      ]
    },
    {
      "cell_type": "code",
      "source": [
        "df['mean'] = df.mean(axis=1)\n",
        "df = df[['mean']]\n",
        "\n",
        "dfTest['mean'] = dfTest.mean(axis=1)\n",
        "dfTest = dfTest[['mean']]"
      ],
      "metadata": {
        "id": "ChSAqvSfV8T2"
      },
      "execution_count": null,
      "outputs": []
    },
    {
      "cell_type": "code",
      "source": [
        "print(df)\n",
        "print(dfTest)"
      ],
      "metadata": {
        "colab": {
          "base_uri": "https://localhost:8080/"
        },
        "id": "XmzXZ6k6WXH9",
        "outputId": "e71c9fa3-0dfe-46f4-d0d7-a83bae10e9cf"
      },
      "execution_count": null,
      "outputs": [
        {
          "output_type": "stream",
          "name": "stdout",
          "text": [
            "       mean\n",
            "0    25.042\n",
            "1    25.020\n",
            "2    24.990\n",
            "3    24.980\n",
            "4    24.972\n",
            "..      ...\n",
            "305  25.032\n",
            "306  25.026\n",
            "307  25.028\n",
            "308  25.026\n",
            "309  25.040\n",
            "\n",
            "[310 rows x 1 columns]\n",
            "            mean\n",
            "3262244   40.286\n",
            "3262245   40.484\n",
            "3262246   40.620\n",
            "3262247   40.950\n",
            "3262248   41.190\n",
            "...          ...\n",
            "3269502  467.430\n",
            "3269503  467.940\n",
            "3269504  460.390\n",
            "3269505  464.312\n",
            "3269506  458.490\n",
            "\n",
            "[7263 rows x 1 columns]\n"
          ]
        }
      ]
    },
    {
      "cell_type": "code",
      "source": [
        "import torch\n",
        "import torch.nn as nn\n",
        "import torch.nn.init as init\n",
        "import math\n",
        "import torch.optim as optim\n",
        "import matplotlib.pyplot as plt\n",
        "from torchtext import data\n",
        "\n",
        "\n",
        "# Defined transformer model\n",
        "# =====================================================================\n",
        "class TransformerModel(nn.Module):\n",
        "    def __init__(self, input_dim, d_model, nhead, num_encoder_layers, dropout=0.1):\n",
        "        super(TransformerModel, self).__init__()\n",
        "        self.encoder_layer = nn.TransformerEncoderLayer(d_model=d_model, nhead=nhead, dropout=dropout)\n",
        "        self.transformer_encoder = nn.TransformerEncoder(self.encoder_layer, num_layers=num_encoder_layers)\n",
        "        self.transformer_encoder.embed_dim = d_model  # Set the embed_dim attribute\n",
        "        self.fc = nn.Linear(d_model, 1)  # Adjusted linear layer input dimension\n",
        "\n",
        "    def forward(self, src, src_mask=None):\n",
        "        src = self.transformer_encoder(src, src_mask)\n",
        "        src = src.mean(dim=1)  # Aggregate sequence to a single vector along the sequence dimension\n",
        "        src = self.fc(src)\n",
        "        return src.squeeze(-1)  # Squeeze to remove the extra dimension\n",
        "\n",
        "\n",
        "# Initialized weights, implemented positional encoding, and incorporated masking\n",
        "# =================================================================================\n",
        "class TransformerEncoderLayer(nn.Module):\n",
        "    def __init__(self, d_model, nhead, dim_feedforward=2048, dropout=0.1):\n",
        "        super(TransformerEncoderLayer, self).__init__()\n",
        "        self.self_attn = nn.MultiheadAttention(d_model, nhead)\n",
        "        self.linear1 = nn.Linear(d_model, dim_feedforward)\n",
        "        self.dropout = nn.Dropout(dropout)\n",
        "        self.linear2 = nn.Linear(dim_feedforward, d_model)\n",
        "        self.norm1 = nn.LayerNorm(d_model)\n",
        "        self.norm2 = nn.LayerNorm(d_model)\n",
        "        self.dropout1 = nn.Dropout(dropout)\n",
        "        self.dropout2 = nn.Dropout(dropout)\n",
        "\n",
        "    def forward(self, src, src_mask=None):\n",
        "        src2 = self.self_attn(src, src, src, attn_mask=src_mask)[0]\n",
        "        src = src + self.dropout1(src2)\n",
        "        src = self.norm1(src)\n",
        "        src2 = self.linear2(self.dropout(F.relu(self.linear1(src))))\n",
        "        src = src + self.dropout2(src2)\n",
        "        src = self.norm2(src)\n",
        "        return src\n",
        "\n",
        "class PositionalEncoding(nn.Module):\n",
        "    def __init__(self, d_model, max_len=5000):\n",
        "        super(PositionalEncoding, self).__init__()\n",
        "        self.dropout = nn.Dropout(p=0.1)\n",
        "\n",
        "        pe = torch.zeros(max_len, d_model)\n",
        "        position = torch.arange(0, max_len, dtype=torch.float).unsqueeze(1)\n",
        "        div_term = torch.exp(torch.arange(0, d_model, 2).float() * (-math.log(10000.0) / d_model))\n",
        "        pe[:, 0::2] = torch.sin(position * div_term)\n",
        "        pe[:, 1::2] = torch.cos(position * div_term)\n",
        "        pe = pe.unsqueeze(0).transpose(0, 1)\n",
        "        self.register_buffer('pe', pe)\n",
        "\n",
        "    def forward(self, x):\n",
        "        x = x + self.pe[:x.size(0), :]\n",
        "        return self.dropout(x)\n",
        "\n",
        "def init_weights(module):\n",
        "    if isinstance(module, (nn.Linear, nn.Conv2d)):\n",
        "        init.xavier_uniform_(module.weight.data)\n",
        "        if module.bias is not None:\n",
        "            module.bias.data.fill_(0.01)\n",
        "\n",
        "\n",
        "# Tokenize data, built vocabulary, created batches, and created input and target sequences.\n",
        "# ========================================================================================\n",
        "epochs = []\n",
        "avg_losses = []\n",
        "\n",
        "TEXT = data.Field(tokenize=lambda x: x, use_vocab=True, batch_first=True)\n",
        "LABEL = data.Field(sequential=False, use_vocab=False, dtype=torch.float)\n",
        "\n",
        "class CustomDataset(data.Dataset):\n",
        "    def __init__(self, df, text_field, label_field):\n",
        "        fields = [('text', text_field), ('label', label_field)]\n",
        "        examples = []\n",
        "        for i, row in df.iterrows():\n",
        "            text = [str(val) for val in row.values]\n",
        "            label = row['mean']\n",
        "            examples.append(data.Example.fromlist([text, label], fields))\n",
        "        super().__init__(examples, fields)\n",
        "\n",
        "train_data = CustomDataset(df, TEXT, LABEL) # Create dataset instances\n",
        "test_data = CustomDataset(df, TEXT, LABEL)\n",
        "\n",
        "TEXT.build_vocab(train_data)  # Build vocabulary\n",
        "\n",
        "BATCH_SIZE = 1\n",
        "train_iterator, test_iterator = data.BucketIterator.splits(\n",
        "    (train_data, test_data),\n",
        "    batch_size=BATCH_SIZE,\n",
        "    sort_key=lambda x: len(x.text),\n",
        "    shuffle=True\n",
        ")\n",
        "\n",
        "for batch in train_iterator:\n",
        "    input_sequence = batch.text  # Input sequence tensor\n",
        "    target_sequence = batch.label  # Target sequence tensor\n",
        "\n",
        "\n",
        "# Initated an instance of the model\n",
        "# =====================================================================\n",
        "input_dim = 1  # Dimension of input features (mean)\n",
        "d_model = 1  # Hidden dimension of the transformer model\n",
        "nhead = 1  # Number of attention heads\n",
        "num_encoder_layers = 3  # Number of transformer encoder layers\n",
        "dropout = 0.1  # Dropout rate for transformer layers\n",
        "max_len = 10000  # Adjust based on the maximum sequence length in your data\n",
        "\n",
        "model = TransformerModel(input_dim, d_model, nhead, num_encoder_layers, dropout)\n",
        "model.apply(init_weights)\n",
        "\n",
        "encoder_layer = TransformerEncoderLayer(d_model, nhead)\n",
        "positional_encoder = PositionalEncoding(d_model, max_len)\n",
        "model.encoder = nn.Sequential(encoder_layer, positional_encoder)\n",
        "\n",
        "\n",
        "# Ran the model\n",
        "# =====================================================================\n",
        "criterion = nn.MSELoss()\n",
        "optimizer = optim.Adam(model.parameters(), lr=0.001)\n",
        "num_epochs = 20 # Number of training epochs\n",
        "\n",
        "# training the model\n",
        "# ===================\n",
        "print(\"\\nTraining the model...\")\n",
        "for epoch in range(num_epochs):\n",
        "    model.train()\n",
        "    running_loss = 0.0\n",
        "\n",
        "    for batch in train_iterator:\n",
        "        optimizer.zero_grad()\n",
        "        input_sequence = batch.text.float()  # Convert input data to float type if needed\n",
        "        target_sequence = batch.label.float()  # Convert target data to float type if needed\n",
        "\n",
        "        output = model(input_sequence)\n",
        "        loss = criterion(output, target_sequence)\n",
        "        loss.backward()\n",
        "        optimizer.step()\n",
        "\n",
        "        running_loss += loss.item()\n",
        "\n",
        "    avg_loss = running_loss / len(train_iterator)\n",
        "    epochs.append(epoch+1)\n",
        "    avg_losses.append(avg_loss)\n",
        "    print(f'Epoch [{epoch+1}/{num_epochs}], Avg Loss: {avg_loss:.4f}')\n",
        "\n",
        "print('Finished Training\\n')\n",
        "\n",
        "# Plotting\n",
        "plt.plot(epochs, avg_losses, label='Average Loss')\n",
        "plt.xlabel('Epoch')\n",
        "plt.ylabel('Average Loss')\n",
        "plt.title('Training Loss')\n",
        "plt.legend()\n",
        "plt.show()\n",
        "\n",
        "\n",
        "# Evaluate the model on the test set\n",
        "# ====================================================================\n",
        "test_data = CustomDataset(dfTest, TEXT, LABEL)\n",
        "test_iterator = data.BucketIterator(test_data, batch_size=BATCH_SIZE, shuffle=False)\n",
        "\n",
        "\n",
        "# Evaluate on test data\n",
        "model.eval()\n",
        "total_loss = 0.0\n",
        "predictions = []\n",
        "ground_truths = []\n",
        "\n",
        "with torch.no_grad():\n",
        "  for batch in test_iterator:\n",
        "    input_sequence = batch.text.float()\n",
        "    target_sequence = batch.label.float()\n",
        "\n",
        "    output = model(input_sequence)\n",
        "    loss = criterion(output, target_sequence)\n",
        "    total_loss += loss.item()\n",
        "\n",
        "    predictions.append(output.squeeze(0).tolist())  # Collect predictions\n",
        "    ground_truths.extend(target_sequence.tolist())  # Collect ground truth values\n",
        "\n",
        "avg_test_loss = total_loss / len(test_iterator)\n",
        "print(f'\\nTest Loss: {avg_test_loss:.4f}')"
      ],
      "metadata": {
        "colab": {
          "base_uri": "https://localhost:8080/",
          "height": 1000
        },
        "id": "KLYWyaCnT6VS",
        "outputId": "10ffef43-c399-4a67-8be2-6fd735334705"
      },
      "execution_count": null,
      "outputs": [
        {
          "output_type": "stream",
          "name": "stderr",
          "text": [
            "/usr/local/lib/python3.10/dist-packages/torch/nn/modules/transformer.py:286: UserWarning: enable_nested_tensor is True, but self.use_nested_tensor is False because encoder_layer.self_attn.batch_first was not True(use batch_first for better inference performance)\n",
            "  warnings.warn(f\"enable_nested_tensor is True, but self.use_nested_tensor is False because {why_not_sparsity_fast_path}\")\n",
            "/usr/local/lib/python3.10/dist-packages/torch/nn/modules/loss.py:535: UserWarning: Using a target size (torch.Size([1])) that is different to the input size (torch.Size([])). This will likely lead to incorrect results due to broadcasting. Please ensure they have the same size.\n",
            "  return F.mse_loss(input, target, reduction=self.reduction)\n"
          ]
        },
        {
          "output_type": "stream",
          "name": "stdout",
          "text": [
            "\n",
            "Training the model...\n",
            "Epoch [1/20], Avg Loss: 602.0486\n",
            "Epoch [2/20], Avg Loss: 545.5426\n",
            "Epoch [3/20], Avg Loss: 476.1661\n",
            "Epoch [4/20], Avg Loss: 399.3801\n",
            "Epoch [5/20], Avg Loss: 320.9098\n",
            "Epoch [6/20], Avg Loss: 245.9135\n",
            "Epoch [7/20], Avg Loss: 178.5441\n",
            "Epoch [8/20], Avg Loss: 121.7028\n",
            "Epoch [9/20], Avg Loss: 76.9305\n",
            "Epoch [10/20], Avg Loss: 44.3781\n",
            "Epoch [11/20], Avg Loss: 22.8910\n",
            "Epoch [12/20], Avg Loss: 10.3019\n",
            "Epoch [13/20], Avg Loss: 3.9337\n",
            "Epoch [14/20], Avg Loss: 1.2368\n",
            "Epoch [15/20], Avg Loss: 0.3114\n",
            "Epoch [16/20], Avg Loss: 0.0626\n",
            "Epoch [17/20], Avg Loss: 0.0119\n",
            "Epoch [18/20], Avg Loss: 0.0043\n",
            "Epoch [19/20], Avg Loss: 0.0034\n",
            "Epoch [20/20], Avg Loss: 0.0034\n",
            "Finished Training\n",
            "\n"
          ]
        },
        {
          "output_type": "display_data",
          "data": {
            "text/plain": [
              "<Figure size 640x480 with 1 Axes>"
            ],
            "image/png": "[encoded data removed]"
          },
          "metadata": {}
        },
        {
          "output_type": "stream",
          "name": "stdout",
          "text": [
            "\n",
            "Test Loss: 22509.3808\n"
          ]
        }
      ]
    }
  ]
}